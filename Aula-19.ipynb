{
 "cells": [
  {
   "cell_type": "markdown",
   "metadata": {},
   "source": [
    "# Variáveis compostas (Dicionários)"
   ]
  },
  {
   "cell_type": "markdown",
   "metadata": {},
   "source": [
    "#### DESAFIO 090\n",
    "\n",
    "##### Faça um programa que leia nome e média de um aluno, guardando também a situação em um dicionário, No final, mostre o conteúdo da estrutura na tela."
   ]
  },
  {
   "cell_type": "code",
   "execution_count": null,
   "metadata": {},
   "outputs": [],
   "source": [
    "name = str(input(\"Nome do aluno: \"))\n",
    "\n",
    "print(f\"\"\"\n",
    "    Nome é igual a {name}\\n\n",
    "    Média é igual a {name}\\n\n",
    "    Situação é igual {\"Aprovado\" if float(input(f\"Média de {name}: \")) > 7 else \"Reprovado\"}\n",
    "\"\"\")"
   ]
  },
  {
   "cell_type": "markdown",
   "metadata": {},
   "source": [
    "#### DESAFIO 091\n",
    "\n",
    "##### Crie um programa onde 4 jogadores joguem um dado e tenham resultados aleatórios. Guarde esses resultados em um dicionário. No final, coloque esse dicionário em ordem, sabendo que o vencedor tirou o maior número no dado."
   ]
  },
  {
   "cell_type": "code",
   "execution_count": null,
   "metadata": {},
   "outputs": [],
   "source": [
    "from random import randint\n",
    "from time import sleep\n",
    "\n",
    "lista = list()\n",
    "\n",
    "print(\"Valores sorteados:\")\n",
    "for i in range(1,5):\n",
    "    sleep(1)\n",
    "    jogador = f\"jogador {i}\"\n",
    "    dado = randint(1,6)\n",
    "    print(f\" O {jogador} tirou {dado}\")\n",
    "    lista.append({jogador:dado})\n",
    "\n",
    "print('Ranking dos jogadores: ')\n",
    "# for i in sorted(lista, key=lambda x: list(x.values())[0], reverse=True):\n",
    "#     sleep(1)\n",
    "#     print(f\"{i+1}º lugar: {lista[i][f'jogador {i+1}']} com {lista[i]['dado']}\")\n"
   ]
  },
  {
   "cell_type": "markdown",
   "metadata": {},
   "source": [
    "#### DESAFIO 092\n",
    "\n",
    "##### Crie um programa que leia nome, ano de nascimento e carteira de trabalho e cadastre-os (com idade) em um dicionário se por acaso a CTPS for diferente de ZERO, o dicionário receberá também o ano de contratação e o salário. Calcule e acrescente, além da idade, com quantos anos a pessao vai de aposentar."
   ]
  }
 ],
 "metadata": {
  "kernelspec": {
   "display_name": "Python 3",
   "language": "python",
   "name": "python3"
  },
  "language_info": {
   "codemirror_mode": {
    "name": "ipython",
    "version": 3
   },
   "file_extension": ".py",
   "mimetype": "text/x-python",
   "name": "python",
   "nbconvert_exporter": "python",
   "pygments_lexer": "ipython3",
   "version": "3.12.5"
  }
 },
 "nbformat": 4,
 "nbformat_minor": 2
}
