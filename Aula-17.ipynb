{
 "cells": [
  {
   "cell_type": "code",
   "execution_count": null,
   "metadata": {},
   "outputs": [],
   "source": [
    "# 84\n",
    "pessoa = list()\n",
    "lista = list()\n",
    "\n",
    "while True:\n",
    "    pessoa.append(str(input(\"Nome: \")))\n",
    "    pessoa.append(int(input(\"Peso: \")))\n",
    "    \n",
    "    if len(lista) == 0:\n",
    "        maior = menor = pessoa[1]\n",
    "    \n",
    "    if pessoa[1] > maior:\n",
    "        maior = pessoa[1]\n",
    "    elif pessoa[1] < menor:\n",
    "        menor = pessoa[1] \n",
    "    \n",
    "    lista.append(pessoa[:])\n",
    "    pessoa.clear()\n",
    "    if str(input(\"Quer continuar? [S/N] \"))[0].strip().upper() == \"N\":\n",
    "        break\n",
    "\n",
    "print(f\"Foram cadastradas {len(lista)} pessoas\")\n",
    "print(f\"O maior peso foi de {maior:.2f} kg\")\n",
    "print(f\"O menor peso foi de {menor:.2f} kg\")"
   ]
  },
  {
   "cell_type": "code",
   "execution_count": null,
   "metadata": {},
   "outputs": [],
   "source": [
    "# 85\n",
    "par = []\n",
    "impar = []\n",
    "\n",
    "for i in range(1,8):\n",
    "    num = int(input(f\"Digite o {i}° valor: \"))\n",
    "    if num % 2 == 0:\n",
    "        par.append(num)\n",
    "    else:\n",
    "        impar.append(num)\n",
    "    par.sort()\n",
    "    impar.sort()\n",
    "\n",
    "print('-='*30)\n",
    "print(f\"Os valores pares digitados foram: {par}\")\n",
    "print(f\"Os valores impares digitados foram: {impar}\")"
   ]
  },
  {
   "cell_type": "code",
   "execution_count": null,
   "metadata": {},
   "outputs": [],
   "source": [
    "# 86\n",
    "matriz = [[], [], []]\n",
    "\n",
    "for linha in range(0,3):\n",
    "    for coluna in range(0,3):\n",
    "        matriz[linha].append(input(f\"Digite um valor para [{linha}, {coluna}]\"))\n",
    "\n",
    "print(f\"\"\"\n",
    "    [{matriz[0][0]}] [{matriz[0][1]}] [{matriz[0][2]}]\n",
    "    [{matriz[1][0]}] [{matriz[1][1]}] [{matriz[1][2]}]\n",
    "    [{matriz[2][0]}] [{matriz[2][1]}] [{matriz[2][2]}]\n",
    "\"\"\")"
   ]
  },
  {
   "cell_type": "code",
   "execution_count": null,
   "metadata": {},
   "outputs": [],
   "source": [
    "# 87\n",
    "matriz = [[], [], []]\n",
    "par = terceria_column = maior = 0\n",
    "\n",
    "for linha in range(0,3):\n",
    "    for coluna in range(0,3):\n",
    "        valor = int(input(f\"Digite um valor para [{linha}, {coluna}]\"))\n",
    "        \n",
    "        if valor % 2 == 0: par += valor\n",
    "        if coluna == 2: terceria_column += valor\n",
    "        if linha == 1 and valor > maior: maior = valor\n",
    "        \n",
    "        matriz[linha].append(valor)\n",
    "\n",
    "print(f\"\"\"\n",
    "    [{matriz[0][0]}] [{matriz[0][1]}] [{matriz[0][2]}]\n",
    "    [{matriz[1][0]}] [{matriz[1][1]}] [{matriz[1][2]}]\n",
    "    [{matriz[2][0]}] [{matriz[2][1]}] [{matriz[2][2]}]\n",
    "\"\"\")\n",
    "\n",
    "print(f\"A soma dos valores pares é {par}\")\n",
    "print(f\"A soma dos valores da terceira coluna é {terceria_column}\")\n",
    "print(f\"A soma dos valores da terceira coluna é {maior}\")"
   ]
  },
  {
   "cell_type": "code",
   "execution_count": null,
   "metadata": {},
   "outputs": [],
   "source": [
    "#88\n",
    "from random import randint\n",
    "from time import  sleep\n",
    "\n",
    "jogos = int(input(\"Quantos jogos vocÊ quer que eu sorteie?\" ))\n",
    "print(f\"-=-=-= SORTEANDO {jogos} JOGOS -=-=-=\")\n",
    "for i in range(jogos):\n",
    "    jogo = [randint(0, 60) for _ in range(6)]\n",
    "    jogo.sort()\n",
    "    print(f\"Jogo {i+1}: {jogo}\")\n",
    "    sleep(1.25)\n",
    "print(\"-=-=-=-=-= < BOA SORTE! > -=-=-=-=-=\")"
   ]
  },
  {
   "cell_type": "code",
   "execution_count": 2,
   "metadata": {},
   "outputs": [
    {
     "name": "stdout",
     "output_type": "stream",
     "text": [
      "-=-=-=-=-=-=-=-=-=-=-=-=-=-=-=-=-=-=-=-=-=-=-=-=-=-=-=-=-=-=-=-=-=-=-=-=-=-=-=-=-=-=-=-=-=-=-=-=-=-=\n",
      "No.  Nome          MÉDIA\n",
      "0    ana            4.75\n",
      "1    Carlos         5.25\n",
      "2    Pedro           7.0\n",
      "-=-=-=-=-=-=-=-=-=-=-=-=-=-=-=-=-=-=-=-=-=-=-=-=-=-=-=-=-=-=-=-=-=-=-=-=-=-=-=-=-=-=-=-=-=-=-=-=-=-=\n"
     ]
    }
   ],
   "source": [
    "#\n",
    "ALUNOS = list()\n",
    "MEDIA = list()\n",
    "len(ALUNOS)\n",
    "while True:\n",
    "    ALUNOS.append([str(input(\"Nome: \")), float(input(\"Nota 1: \")), float(input(\"Nota 2: \"))])\n",
    "    MEDIA.append((ALUNOS[len(ALUNOS)-1][1] + ALUNOS[len(ALUNOS)-1][2]) / 2)\n",
    "    if str(input(\"Quer continuar? [S/N] \"))[0].strip().upper() == \"N\":\n",
    "        break\n",
    "\n",
    "print(\"-=\"*50)\n",
    "print(f\"{\"No.\":<4} {\"Nome\":<10} {\"MÉDIA\":>8}\")\n",
    "for i in range(len(ALUNOS)):\n",
    "    print(f\"{i:<4} {ALUNOS[i][0]:<10} {MEDIA[i]:>8}\" )\n",
    "print(\"-=\"*50)"
   ]
  }
 ],
 "metadata": {
  "kernelspec": {
   "display_name": "Python 3",
   "language": "python",
   "name": "python3"
  },
  "language_info": {
   "codemirror_mode": {
    "name": "ipython",
    "version": 3
   },
   "file_extension": ".py",
   "mimetype": "text/x-python",
   "name": "python",
   "nbconvert_exporter": "python",
   "pygments_lexer": "ipython3",
   "version": "3.12.5"
  }
 },
 "nbformat": 4,
 "nbformat_minor": 2
}
